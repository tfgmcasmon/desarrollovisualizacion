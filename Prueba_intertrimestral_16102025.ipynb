{
  "nbformat": 4,
  "nbformat_minor": 0,
  "metadata": {
    "colab": {
      "provenance": []
    },
    "kernelspec": {
      "name": "python3",
      "display_name": "Python 3"
    },
    "language_info": {
      "name": "python"
    }
  },
  "cells": [
    {
      "cell_type": "markdown",
      "source": [
        "# Prueba Intertrimestral\n",
        "\n",
        "**Nombre:**  \n",
        "**Apellidos:**  \n",
        "\n",
        "**Tiempo de la prueba:** 2 horas  \n",
        "**Asignatura:** Desarrollo de Aplicaciones para la Visualización de Datos  \n",
        "**Fecha:** 16 de octubre de 2025  \n",
        "\n",
        "## Instrucciones\n",
        "\n",
        "- Escribe **código limpio y autoexplicativo**.  \n",
        "- Se pueden utilizar **los materiales de clase**.  \n",
        "- Se puede utilizar **internet** para búsqueda de dudas y documentación.  \n",
        "- **No se puede utilizar ningún tipo de LLM** (ChatGPT, Copilot, Gemini, etc.).  \n",
        "- **No se puede utilizar mensajería instantánea**.  \n",
        "- Al finalizar, **sube tu notebook a GitHub** y envía el enlace del fichero en el siguiente formulario:  \n",
        "[https://forms.office.com/e/LFVwu9z6uQ](https://forms.office.com/e/LFVwu9z6uQ)\n",
        "\n",
        "\n",
        "## Dataset “Life Style Data”\n",
        "\n",
        "El dataset contiene información sobre hábitos de vida (alimentación, sueño, ejercicio, consumo de tabaco o alcohol, etc.) y medidas de salud (IMC, presión arterial, etc.) para diferentes individuos.\n",
        "\n",
        "Puedes descargarlo del repositorio de la asignatura y un .txt con la descripción de las variables.\n"
      ],
      "metadata": {
        "id": "BZHOfP4hO8Vj"
      }
    },
    {
      "cell_type": "markdown",
      "source": [
        "## Inicialización de librerías"
      ],
      "metadata": {
        "id": "pAyOgtngSm8l"
      }
    },
    {
      "cell_type": "code",
      "source": [],
      "metadata": {
        "id": "rUSOV34cSmDn"
      },
      "execution_count": null,
      "outputs": []
    },
    {
      "cell_type": "markdown",
      "source": [
        "# Ejercicio 1 — Programación (2 puntos)\n",
        "\n",
        "a) (0.6 pts) Crea una función imc(weight, height) que devuelva el índice de masa corporal (IMC), redondeado a dos decimales.\n",
        "\n"
      ],
      "metadata": {
        "id": "otirxiJrSsEC"
      }
    },
    {
      "cell_type": "code",
      "source": [],
      "metadata": {
        "id": "3N45WKtkS6-A"
      },
      "execution_count": null,
      "outputs": []
    },
    {
      "cell_type": "markdown",
      "source": [
        "b) (0.6 pts) Crea una función saludable(imcValue) que devuelva \"Saludable\" si el IMC está entre 18.5 y 24.9, \"Bajo peso\" si es menor de 18.5, o \"Sobrepeso\" si es mayor de 24.9."
      ],
      "metadata": {
        "id": "BLBDCknMS7TE"
      }
    },
    {
      "cell_type": "code",
      "source": [],
      "metadata": {
        "id": "WDhSuYXLS9Fz"
      },
      "execution_count": null,
      "outputs": []
    },
    {
      "cell_type": "markdown",
      "source": [
        "c) (0.6 pts) Genera un DataFrame llamado imcData que contenga al menos 10 registros con las siguientes columnas:\n",
        "\n",
        "\n",
        "*   peso (en kilogramos)\n",
        "\n",
        "*   altura (en metros)\n",
        "\n",
        "*   imc (calculado usando la función imc(weight, height) creada anteriormente)\n",
        "\n",
        "Puedes generar los datos de peso y altura manualmente, mediante listas, o de forma aleatoria utilizando numpy (np.random.uniform o similar).\n",
        "\n",
        "Añade una cuarta columna llamada categoria, cuyos valores provengan de la función saludable(imcValue).\n",
        "\n",
        "Muestra las primeras filas del DataFrame resultante y comprueba que los tipos de datos son correctos."
      ],
      "metadata": {
        "id": "KjQkJdhLS9dO"
      }
    },
    {
      "cell_type": "code",
      "source": [],
      "metadata": {
        "id": "sN09MzT_TGWv"
      },
      "execution_count": null,
      "outputs": []
    },
    {
      "cell_type": "markdown",
      "source": [
        "d) (0.2 pts) ¿Cómo podrías integrar ambas funciones dentro de una clase llamada HealthTools que calcule el IMC y clasifique automáticamente a partir de listas de pesos y alturas?"
      ],
      "metadata": {
        "id": "uqaLQ7v3TGqI"
      }
    },
    {
      "cell_type": "code",
      "source": [],
      "metadata": {
        "id": "ac1ReJOvTuS9"
      },
      "execution_count": null,
      "outputs": []
    },
    {
      "cell_type": "markdown",
      "source": [
        "## Ejercicio 2 — Exploración y visualización (3 puntos)\n",
        "\n",
        "a) (0.75 pts) Carga el dataset desde el fichero CSV y guárdalo en un DataFrame llamado lifeStyleData. Muestra las 5 primeras filas, el número de filas y columnas."
      ],
      "metadata": {
        "id": "_KNWF6NGTxLR"
      }
    },
    {
      "cell_type": "code",
      "source": [],
      "metadata": {
        "id": "l907uB6pT4qS"
      },
      "execution_count": null,
      "outputs": []
    },
    {
      "cell_type": "markdown",
      "source": [
        "b) (0.75 pts) Crea una función describeData(dataFrame) que devuelva para cada columna: tipo de dato, número de valores nulos y porcentaje de nulos."
      ],
      "metadata": {
        "id": "JlpQNR-CT49v"
      }
    },
    {
      "cell_type": "code",
      "source": [],
      "metadata": {
        "id": "oXcuxp6mT8iA"
      },
      "execution_count": null,
      "outputs": []
    },
    {
      "cell_type": "markdown",
      "source": [
        "c) (0.75 pts) Usa describeData(lifeStyleData) y comenta brevemente (2–3 líneas) qué variables parecen tener más valores faltantes."
      ],
      "metadata": {
        "id": "mHjSdK4oT7Yp"
      }
    },
    {
      "cell_type": "code",
      "source": [],
      "metadata": {
        "id": "bgMOXwrbT-Du"
      },
      "execution_count": null,
      "outputs": []
    },
    {
      "cell_type": "markdown",
      "source": [
        "d) (0.75 pts) Realiza un gráfico que muestre las correlaciones entre variables numéricas. ¿Hay alguna correlación fuerte o inesperada?"
      ],
      "metadata": {
        "id": "qlYW9h-qT-VT"
      }
    },
    {
      "cell_type": "code",
      "source": [],
      "metadata": {
        "id": "buQgpNSrUCS3"
      },
      "execution_count": null,
      "outputs": []
    },
    {
      "cell_type": "markdown",
      "source": [
        "## Ejercicio 3 — Regresión básica (2 puntos)\n",
        "\n",
        "Queremos predecir una variable de salud continua, por ejemplo bmi.\n",
        "\n",
        "a) (0.25 pts) Define targetVar = \"bmi\" y selecciona 2–3 variables predictoras (por ejemplo sleepHours, activityLevel, calories). Guarda las columnas predictoras en X y la variable objetivo en y."
      ],
      "metadata": {
        "id": "xfw0EHuoUCk_"
      }
    },
    {
      "cell_type": "code",
      "source": [],
      "metadata": {
        "id": "3lGCNguAUGZe"
      },
      "execution_count": null,
      "outputs": []
    },
    {
      "cell_type": "markdown",
      "source": [
        "b) (0.25 pts) Divide los datos en entrenamiento (70 %) y prueba (30 %)."
      ],
      "metadata": {
        "id": "8TpJdONMUGuE"
      }
    },
    {
      "cell_type": "code",
      "source": [],
      "metadata": {
        "id": "d7q5Q7SNUP-G"
      },
      "execution_count": null,
      "outputs": []
    },
    {
      "cell_type": "markdown",
      "source": [
        "c) (0.75 pts) Entrena un modelo de regresión lineal (LinearRegression) y calcula el R² y el MSE."
      ],
      "metadata": {
        "id": "yGs8HngOUR7K"
      }
    },
    {
      "cell_type": "code",
      "source": [],
      "metadata": {
        "id": "nkH-KfUrUSv0"
      },
      "execution_count": null,
      "outputs": []
    },
    {
      "cell_type": "markdown",
      "source": [
        "d) (0.75 pts) Entrena un RandomForestRegressor con los mismos datos y compara resultados. ¿Cuál tiene mejor rendimiento?"
      ],
      "metadata": {
        "id": "fozoFa3vUTah"
      }
    },
    {
      "cell_type": "code",
      "source": [],
      "metadata": {
        "id": "0Me5YnFVUcPQ"
      },
      "execution_count": null,
      "outputs": []
    },
    {
      "cell_type": "markdown",
      "source": [
        "## Ejercicio 4 — Clasificación sencilla (2 puntos)\n",
        "\n",
        "Crea una nueva variable binaria que indique si el IMC está dentro del rango saludable.\n",
        "\n",
        "a) (0.25 pts) Crea una nueva columna bmiHealthy donde el valor sea 1 si bmi está entre 18.5 y 24.9, y 0 en caso contrario."
      ],
      "metadata": {
        "id": "DIupTYHLUd4I"
      }
    },
    {
      "cell_type": "code",
      "source": [],
      "metadata": {
        "id": "c95n3xjoUhbk"
      },
      "execution_count": null,
      "outputs": []
    },
    {
      "cell_type": "markdown",
      "source": [
        "b) (0.75 pts) Entrena un modelo de regresión logística (LogisticRegression) para predecir bmiHealthy usando algunas variables de estilo de vida (por ejemplo sleepHours, activityLevel, calories)."
      ],
      "metadata": {
        "id": "F65J5M78Uhus"
      }
    },
    {
      "cell_type": "code",
      "source": [],
      "metadata": {
        "id": "L0bX3dbvUjpC"
      },
      "execution_count": null,
      "outputs": []
    },
    {
      "cell_type": "markdown",
      "source": [
        "c) (0.25 pts) Calcula la exactitud (accuracy) del modelo y muestra la matriz de confusión.\n"
      ],
      "metadata": {
        "id": "t2zVo1tRUj9o"
      }
    },
    {
      "cell_type": "code",
      "source": [],
      "metadata": {
        "id": "D3q0Hzu_UmT5"
      },
      "execution_count": null,
      "outputs": []
    },
    {
      "cell_type": "markdown",
      "source": [
        "d) (0.75 pts) Explica qué variable parece influir más según el modelo."
      ],
      "metadata": {
        "id": "H8MWudWBUngY"
      }
    },
    {
      "cell_type": "code",
      "source": [],
      "metadata": {
        "id": "qKdONBvPU1Pn"
      },
      "execution_count": null,
      "outputs": []
    },
    {
      "cell_type": "markdown",
      "source": [
        "## Ejercicio 5 — Conclusión (1 punto)\n",
        "\n",
        "En un máximo de 300 palabras, resume:\n",
        "\n",
        "*   Qué hábitos parecen tener mayor relación con el estado de salud.\n",
        "\n",
        "*   Qué modelo fue más eficaz y por qué.\n",
        "\n",
        "*   Qué podrías mejorar si tuvieras más tiempo o datos.\n",
        "\n"
      ],
      "metadata": {
        "id": "dnuHNl1HU1sV"
      }
    }
  ]
}